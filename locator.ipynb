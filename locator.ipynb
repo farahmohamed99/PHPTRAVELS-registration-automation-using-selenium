{
 "cells": [
  {
   "cell_type": "code",
   "execution_count": 1,
   "metadata": {},
   "outputs": [],
   "source": [
    "from selenium.webdriver.common.by import By\n",
    "\n",
    "#Each class represents a page that contains \n",
    "#the information needed for each element in the page.\n",
    "\n",
    "class RegisterPageLocators:\n",
    "    \n",
    "    FIRST_NAME_TEXTBOX = (By.NAME,'firstname')\n",
    "    LAST_NAME_TEXTBOX = (By.NAME,'lastname')\n",
    "    \n",
    "    PHONE_TEXTBOX = (By.NAME,'phone')\n",
    "    EMAIL_TEXTBOX = (By.NAME,'email')\n",
    "    \n",
    "    PASSWORD_TEXTBOX = (By.NAME,'password')\n",
    "    CONFIRMEDPASSWORD_TEXTBOX = (By.NAME,'confirmpassword')\n",
    "    \n",
    "    SIGN_UP_BUTTON = (By.XPATH, '//*[@class=\"signupbtn btn_full btn btn-success btn-block btn-lg\"]')\n",
    "    LOGO = (By.XPATH,'//img[@alt = \"Register\"]')\n",
    "    TITLE = (By.XPATH,'//h3[text() = \"Sign Up\"]')\n",
    "    \n",
    "    \n",
    "    \n",
    "class LoginPageLocators:\n",
    "    \n",
    "    EMAIL_TEXTBOX = (By.NAME,'username')\n",
    "    PASSWORD_TEXTBOX = (By.NAME,'password')\n",
    "    \n",
    "    LOGIN_BUTTON = (By.XPATH,'/html/body/div[2]/div[1]/section/div/div[1]/div[2]/form/button')\n",
    "    SIGN_UP_BUTTON = (By.XPATH,'//*[@id=\"loginfrm\"]/div[4]/div[1]/a')\n",
    "    FORGET_PASSWORD_BUTTON = (By.XPATH,'//*[@id=\"loginfrm\"]/div[4]/div[3]/a')\n",
    "    \n",
    "    REMEMBER_ME = (By.XPATH,'//*[@id=\"loginfrm\"]/div[3]/div[3]/label')\n",
    "    LOGO = (By.XPATH,'//img[@alt = \"Login\"]')\n",
    "    TITLE = (By.XPATH,'//h3[text() = \"Login\"]')\n",
    "    \n",
    "class AccountPageLocators:\n",
    "    DROPDOWN_BUTTON = (By.XPATH,'//*[@class=\"dropdown dropdown-login dropdown-tab\"]')\n",
    "    LOGOUT_BUTTON = (By.XPATH,'//a[contains(text(),\"Logout\")]') \n",
    "    \n",
    "    \n",
    "    "
   ]
  },
  {
   "cell_type": "code",
   "execution_count": null,
   "metadata": {},
   "outputs": [],
   "source": []
  }
 ],
 "metadata": {
  "kernelspec": {
   "display_name": "Python 3",
   "language": "python",
   "name": "python3"
  },
  "language_info": {
   "codemirror_mode": {
    "name": "ipython",
    "version": 3
   },
   "file_extension": ".py",
   "mimetype": "text/x-python",
   "name": "python",
   "nbconvert_exporter": "python",
   "pygments_lexer": "ipython3",
   "version": "3.6.12"
  }
 },
 "nbformat": 4,
 "nbformat_minor": 4
}
