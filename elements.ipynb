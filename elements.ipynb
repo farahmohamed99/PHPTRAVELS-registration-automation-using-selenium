{
 "cells": [
  {
   "cell_type": "code",
   "execution_count": 1,
   "metadata": {},
   "outputs": [
    {
     "name": "stdout",
     "output_type": "stream",
     "text": [
      "importing Jupyter notebook from locator.ipynb\n"
     ]
    }
   ],
   "source": [
    "from selenium.webdriver.support.ui import WebDriverWait\n",
    "import import_ipynb\n",
    "from locator import *\n",
    "\n",
    "\n",
    "\n",
    "# Represets one element on the page and fill it with the value from it ex: Firstname textbox\n",
    "class BasePageElement(object):\n",
    "    #set a value of a textbox\n",
    "    def __set__(self, obj, value):\n",
    "    \n",
    "        driver = obj.driver\n",
    "        WebDriverWait(driver, 100).until(\n",
    "            lambda driver: driver.find_element_by_name(self.locator))\n",
    "        driver.find_element_by_name(self.locator).clear()\n",
    "        driver.find_element_by_name(self.locator).send_keys(value)\n",
    "        \n",
    "\n",
    "# Each class represents a textbox that will be filled by the upper function\n",
    "class FirstNameTextBox(BasePageElement):\n",
    "    \n",
    "    locator = RegisterPageLocators.FIRST_NAME_TEXTBOX[1]\n",
    "    \n",
    "class LastNameTextBox(BasePageElement):\n",
    "    \n",
    "    locator = RegisterPageLocators.LAST_NAME_TEXTBOX[1]\n",
    "    \n",
    "class PhoneTextBox(BasePageElement):\n",
    "    \n",
    "    locator = RegisterPageLocators.PHONE_TEXTBOX[1]\n",
    "    \n",
    "class EmailTextBox(BasePageElement):\n",
    "    \n",
    "    locator = RegisterPageLocators.EMAIL_TEXTBOX[1]\n",
    "    \n",
    "class PasswordTextBox(BasePageElement):\n",
    "    \n",
    "    locator = RegisterPageLocators.PASSWORD_TEXTBOX[1]\n",
    "    \n",
    "class ConfirmPasswordTextBox(BasePageElement):\n",
    "    \n",
    "    locator = RegisterPageLocators.CONFIRMEDPASSWORD_TEXTBOX[1]\n",
    "\n",
    "class EmailTextBox_SignUp(BasePageElement):\n",
    "    \n",
    "    locator = LoginPageLocators.EMAIL_TEXTBOX[1]\n",
    "    \n",
    "class PasswordTextBox_SignUp(BasePageElement):\n",
    "    \n",
    "    locator = LoginPageLocators.PASSWORD_TEXTBOX[1]\n",
    "    "
   ]
  },
  {
   "cell_type": "code",
   "execution_count": null,
   "metadata": {},
   "outputs": [],
   "source": []
  }
 ],
 "metadata": {
  "kernelspec": {
   "display_name": "Python 3",
   "language": "python",
   "name": "python3"
  },
  "language_info": {
   "codemirror_mode": {
    "name": "ipython",
    "version": 3
   },
   "file_extension": ".py",
   "mimetype": "text/x-python",
   "name": "python",
   "nbconvert_exporter": "python",
   "pygments_lexer": "ipython3",
   "version": "3.6.12"
  }
 },
 "nbformat": 4,
 "nbformat_minor": 4
}
